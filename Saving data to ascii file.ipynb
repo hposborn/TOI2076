{
 "cells": [
  {
   "cell_type": "code",
   "execution_count": 2,
   "id": "6424995f",
   "metadata": {},
   "outputs": [],
   "source": [
    "import pandas as pd\n",
    "import aesara_theano_fallback.tensor as tt\n",
    "import exoplanet as xo\n",
    "\n",
    "import pymc3 as pm\n",
    "import pymc3_ext as pmx\n",
    "import numpy as np\n",
    "import matplotlib.pyplot as plt\n",
    "import matplotlib.gridspec as gridspec\n",
    "\n",
    "%matplotlib inline\n",
    "import pickle\n",
    "import seaborn as sns\n",
    "from astropy.io import ascii\n",
    "from astropy.table import Table\n",
    "from datetime import date"
   ]
  },
  {
   "cell_type": "markdown",
   "id": "578f9f79",
   "metadata": {},
   "source": [
    "# Writing ASCII files for upload to CDS\n",
    "\n",
    "We will have files for:\n",
    "\n",
    "* Each CHEOPS visit (x4)\n",
    "* Each MUSCAT2 bandpass (x4)\n",
    "* Saint-Ex lightcurve (x1)\n",
    "* LCO/McD lightcurve (x1)\n",
    "\n",
    "which will include:\n",
    "* raw flux\n",
    "* meta data \n",
    "* detrended flux \n",
    "* best-fit models \n",
    "* 1/2-sigma errors on best-fit models"
   ]
  },
  {
   "cell_type": "code",
   "execution_count": 3,
   "id": "db60ff87",
   "metadata": {},
   "outputs": [],
   "source": [
    "alldata = pickle.load(open(\"all_data_for_combined_model.pkl\",\"rb\"))"
   ]
  },
  {
   "cell_type": "code",
   "execution_count": 4,
   "id": "9ecbaed2",
   "metadata": {},
   "outputs": [],
   "source": [
    "import glob\n",
    "import gzip\n",
    "import pickle\n",
    "\n",
    "filename='P35_circ_ncbaenwgr_na_nogp_nocontam_fixld_35d_fixed_ror_vals_20211205'\n",
    "save_loc=\"/Volumes/LUVOIR/Cheops_data/TOI2076/CombModelOutputs/\"\n",
    "\n",
    "bytes_in = bytearray(0)\n",
    "max_bytes = 2**31 - 1\n",
    "for file in glob.glob(save_loc+\"TOI2076_finalmodel_\"+filename+\"_trace*gz\"):\n",
    "    with gzip.open(file, 'rb') as f_in:\n",
    "        bytes_in += f_in.read(max_bytes)\n",
    "trace = pickle.loads(bytes_in)"
   ]
  },
  {
   "cell_type": "code",
   "execution_count": 8,
   "id": "888a6ab1",
   "metadata": {},
   "outputs": [
    {
     "data": {
      "text/plain": [
       "dict_keys(['phi', 'flux', 'time', 'fine_time', 'norm_time', 'flux_err', 'phi_sorted', 'phi_sorting', 'time_sorting', 'smear', 'deltaT', 'bg', 'sin_phi', 'cos_phi'])"
      ]
     },
     "execution_count": 8,
     "metadata": {},
     "output_type": "execute_result"
    }
   ],
   "source": [
    "n=0\n",
    "alldata['cheops_'+str(n)].keys()"
   ]
  },
  {
   "cell_type": "code",
   "execution_count": 33,
   "id": "6b975418",
   "metadata": {},
   "outputs": [
    {
     "data": {
      "text/plain": [
       "['g', 'r', 'i', 'z']"
      ]
     },
     "execution_count": 33,
     "metadata": {},
     "output_type": "execute_result"
    }
   ],
   "source": [
    "[i for i in 'griz']"
   ]
  },
  {
   "cell_type": "code",
   "execution_count": 44,
   "id": "bc9c17f3",
   "metadata": {},
   "outputs": [
    {
     "name": "stdout",
     "output_type": "stream",
     "text": [
      "summodel_x\n",
      "summodel_x\n",
      "summodel_x\n"
     ]
    }
   ],
   "source": [
    "data = []\n",
    "\n",
    "allcols=[]\n",
    "\n",
    "for scope in ['cheops_'+str(n) for n in range(4)]+[filt+'_lco' for filt in 'griz']+['r_sex', 'z_mcd']:\n",
    "    chdata=Table()\n",
    "    chdata['time']=alldata[scope]['time']\n",
    "    for row in alldata[scope]:\n",
    "        if len(alldata[scope][row])==len(alldata[scope]['time']) and 'sort' not in row and 'norm_' not in row and row!='time':\n",
    "            chdata[row]=alldata[scope][row]\n",
    "            if row not in allcols:\n",
    "                allcols+=[row]\n",
    "    for newrow in ['flux_cor','planets_x','summodel_x']:\n",
    "        if newrow+'_'+scope in trace.varnames:\n",
    "            if trace[newrow+'_'+scope].shape[1]==1:\n",
    "                chdata[newrow+'_med']=np.tile(np.nanmedian(trace[newrow+'_'+scope],axis=0),len(alldata[scope]['time']))\n",
    "                chdata[newrow+'_sd']=np.tile(np.nanstd(trace[newrow+'_'+scope],axis=0),len(alldata[scope]['time']))\n",
    "            else:\n",
    "                chdata[newrow+'_med']=np.nanmedian(trace[newrow+'_'+scope],axis=0)\n",
    "                chdata[newrow+'_sd']=np.nanstd(trace[newrow+'_'+scope],axis=0)\n",
    "            if newrow not in allcols:\n",
    "                allcols+=[newrow]\n",
    "        else:\n",
    "            print(newrow)\n",
    "    ascii.write(chdata, 'cdsdat/'+scope+'.dat', overwrite=True)\n",
    "    data+=[chdata]"
   ]
  },
  {
   "cell_type": "code",
   "execution_count": 45,
   "id": "f945f802",
   "metadata": {},
   "outputs": [
    {
     "data": {
      "text/plain": [
       "['phi',\n",
       " 'flux',\n",
       " 'flux_err',\n",
       " 'smear',\n",
       " 'deltaT',\n",
       " 'bg',\n",
       " 'sin_phi',\n",
       " 'cos_phi',\n",
       " 'flux_cor',\n",
       " 'planets_x',\n",
       " 'summodel_x',\n",
       " 'airmass',\n",
       " 'entropy',\n",
       " 'width',\n",
       " 'x',\n",
       " 'y',\n",
       " 'fwhm',\n",
       " 'compcounts',\n",
       " 'g/r',\n",
       " 'r/i',\n",
       " 'i/z']"
      ]
     },
     "execution_count": 45,
     "metadata": {},
     "output_type": "execute_result"
    }
   ],
   "source": [
    "allcols"
   ]
  },
  {
   "cell_type": "code",
   "execution_count": 41,
   "id": "a8c9f472",
   "metadata": {},
   "outputs": [
    {
     "name": "stdout",
     "output_type": "stream",
     "text": [
      "0 2348.133835280314\n",
      "1 2334.040549950674\n",
      "2 2333.5049420034047\n",
      "3 2274.0856057913043\n"
     ]
    }
   ],
   "source": [
    "for i in range(4):\n",
    "    print(i,np.median(alldata['cheops_'+str(i)]['time']))"
   ]
  },
  {
   "cell_type": "code",
   "execution_count": 38,
   "id": "9e574d3a",
   "metadata": {},
   "outputs": [
    {
     "data": {
      "text/plain": [
       "<TableColumns names=('time','flux','flux_err','airmass','entropy','width','x','y','fwhm','compcounts','g/r','r/i','i/z','flux_cor_z_lco_med','flux_cor_z_lco_sd','planets_x_z_lco_med','planets_x_z_lco_sd','summodel_x_z_lco_med','summodel_x_z_lco_sd')>"
      ]
     },
     "execution_count": 38,
     "metadata": {},
     "output_type": "execute_result"
    }
   ],
   "source": [
    "data[7].columns\n",
    "# plt.plot(data[7]['summodel_x_z_lco_med'])\n",
    "# plt.plot(data[7]['planets_x_z_lco_med'])\n",
    "# plt.plot(data[7]['flux_cor_z_lco_med'])"
   ]
  },
  {
   "cell_type": "code",
   "execution_count": 5,
   "id": "6e5ed26d",
   "metadata": {},
   "outputs": [
    {
     "data": {
      "text/plain": [
       "['Teff_interval__',\n",
       " 'Rs_lowerbound__',\n",
       " 'logg',\n",
       " 'transit_times_0',\n",
       " 'transit_times_1',\n",
       " 'transit_times_2',\n",
       " 'logror',\n",
       " 'b_interval__',\n",
       " 'u_star_cheops_interval__',\n",
       " 'u_star_g_interval__',\n",
       " 'u_star_i_interval__',\n",
       " 'u_star_r_interval__',\n",
       " 'u_star_tess_interval__',\n",
       " 'u_star_z_interval__',\n",
       " 'logs_phot_g_lco',\n",
       " 'logs_phot_r_lco',\n",
       " 'logs_phot_i_lco',\n",
       " 'logs_phot_z_lco',\n",
       " 'logs_phot_r_sex',\n",
       " 'logs_phot_z_mcd',\n",
       " 'logs_phot_cheops_0',\n",
       " 'logs_phot_cheops_1',\n",
       " 'logs_phot_cheops_2',\n",
       " 'logs_phot_cheops_3',\n",
       " 'logs_phot_tess',\n",
       " 'dfdairmass_g_lco_interval__',\n",
       " 'dfdentropy_g_lco_interval__',\n",
       " 'dfdnorm_time_g_lco_interval__',\n",
       " 'dfdwidth_g_lco_interval__',\n",
       " 'dfdg/r_g_lco_interval__',\n",
       " 'dfdr/i_g_lco_interval__',\n",
       " 'd2fdairmass2_g_lco_interval__',\n",
       " 'dfdairmass_r_lco_interval__',\n",
       " 'dfdnorm_time_r_lco_interval__',\n",
       " 'dfdwidth_r_lco_interval__',\n",
       " 'dfdg/r_r_lco_interval__',\n",
       " 'dfdr/i_r_lco_interval__',\n",
       " 'd2fdairmass2_r_lco_interval__',\n",
       " 'dfdairmass_i_lco_interval__',\n",
       " 'dfdentropy_i_lco_interval__',\n",
       " 'dfdnorm_time_i_lco_interval__',\n",
       " 'dfdwidth_i_lco_interval__',\n",
       " 'dfdcompcounts_i_lco_interval__',\n",
       " 'dfdr/i_i_lco_interval__',\n",
       " 'dfdi/z_i_lco_interval__',\n",
       " 'd2fdairmass2_i_lco_interval__',\n",
       " 'dfdairmass_z_lco_interval__',\n",
       " 'dfdnorm_time_z_lco_interval__',\n",
       " 'dfdwidth_z_lco_interval__',\n",
       " 'dfdr/i_z_lco_interval__',\n",
       " 'dfdi/z_z_lco_interval__',\n",
       " 'd2fdairmass2_z_lco_interval__',\n",
       " 'dfdairmass_r_sex_interval__',\n",
       " 'dfdcompcounts_r_sex_interval__',\n",
       " 'd2fdairmass2_r_sex_interval__',\n",
       " 'dfdairmass_z_mcd_interval__',\n",
       " 'dfdnorm_time_cheops_0_interval__',\n",
       " 'dfdcos_phi_cheops_0_interval__',\n",
       " 'dfdbg_cheops_0_interval__',\n",
       " 'd2fdnorm_time2_cheops_0_interval__',\n",
       " 'dfdnorm_time_cheops_1_interval__',\n",
       " 'dfdsin_phi_cheops_1_interval__',\n",
       " 'dfdcos_phi_cheops_1_interval__',\n",
       " 'dfdsmear_cheops_1_interval__',\n",
       " 'dfdbg_cheops_1_interval__',\n",
       " 'd2fdnorm_time2_cheops_1_interval__',\n",
       " 'dfdnorm_time_cheops_2_interval__',\n",
       " 'dfdsin_phi_cheops_2_interval__',\n",
       " 'dfdcos_phi_cheops_2_interval__',\n",
       " 'dfdbg_cheops_2_interval__',\n",
       " 'd2fdnorm_time2_cheops_2_interval__',\n",
       " 'dfdnorm_time_cheops_3_interval__',\n",
       " 'dfdcos_phi_cheops_3_interval__',\n",
       " 'dfdsmear_cheops_3_interval__',\n",
       " 'dfdbg_cheops_3_interval__',\n",
       " 'd2fdnorm_time2_cheops_3_interval__',\n",
       " 'mean_g_lco',\n",
       " 'mean_r_lco',\n",
       " 'mean_i_lco',\n",
       " 'mean_z_lco',\n",
       " 'mean_r_sex',\n",
       " 'mean_z_mcd',\n",
       " 'mean_cheops_0',\n",
       " 'mean_cheops_1',\n",
       " 'mean_cheops_2',\n",
       " 'mean_cheops_3',\n",
       " 'Teff',\n",
       " 'Rs',\n",
       " 'Ms',\n",
       " 'ror',\n",
       " 'r_pl',\n",
       " 'b',\n",
       " 'u_star_cheops',\n",
       " 'u_star_g',\n",
       " 'u_star_i',\n",
       " 'u_star_r',\n",
       " 'u_star_tess',\n",
       " 'u_star_z',\n",
       " 't0',\n",
       " 'derived_period',\n",
       " 'a_Rs',\n",
       " 'sma',\n",
       " 'S_in',\n",
       " 'Teq_p',\n",
       " 'Tsurf_p',\n",
       " 'Mp_est',\n",
       " 'TSM',\n",
       " 'tdur',\n",
       " 'dfdairmass_g_lco',\n",
       " 'dfdentropy_g_lco',\n",
       " 'dfdnorm_time_g_lco',\n",
       " 'dfdwidth_g_lco',\n",
       " 'dfdg/r_g_lco',\n",
       " 'dfdr/i_g_lco',\n",
       " 'd2fdairmass2_g_lco',\n",
       " 'dfdairmass_r_lco',\n",
       " 'dfdnorm_time_r_lco',\n",
       " 'dfdwidth_r_lco',\n",
       " 'dfdg/r_r_lco',\n",
       " 'dfdr/i_r_lco',\n",
       " 'd2fdairmass2_r_lco',\n",
       " 'dfdairmass_i_lco',\n",
       " 'dfdentropy_i_lco',\n",
       " 'dfdnorm_time_i_lco',\n",
       " 'dfdwidth_i_lco',\n",
       " 'dfdcompcounts_i_lco',\n",
       " 'dfdr/i_i_lco',\n",
       " 'dfdi/z_i_lco',\n",
       " 'd2fdairmass2_i_lco',\n",
       " 'dfdairmass_z_lco',\n",
       " 'dfdnorm_time_z_lco',\n",
       " 'dfdwidth_z_lco',\n",
       " 'dfdr/i_z_lco',\n",
       " 'dfdi/z_z_lco',\n",
       " 'd2fdairmass2_z_lco',\n",
       " 'dfdairmass_r_sex',\n",
       " 'dfdcompcounts_r_sex',\n",
       " 'd2fdairmass2_r_sex',\n",
       " 'dfdairmass_z_mcd',\n",
       " 'dfdnorm_time_cheops_0',\n",
       " 'dfdcos_phi_cheops_0',\n",
       " 'dfdbg_cheops_0',\n",
       " 'd2fdnorm_time2_cheops_0',\n",
       " 'dfdnorm_time_cheops_1',\n",
       " 'dfdsin_phi_cheops_1',\n",
       " 'dfdcos_phi_cheops_1',\n",
       " 'dfdsmear_cheops_1',\n",
       " 'dfdbg_cheops_1',\n",
       " 'd2fdnorm_time2_cheops_1',\n",
       " 'dfdnorm_time_cheops_2',\n",
       " 'dfdsin_phi_cheops_2',\n",
       " 'dfdcos_phi_cheops_2',\n",
       " 'dfdbg_cheops_2',\n",
       " 'd2fdnorm_time2_cheops_2',\n",
       " 'dfdnorm_time_cheops_3',\n",
       " 'dfdcos_phi_cheops_3',\n",
       " 'dfdsmear_cheops_3',\n",
       " 'dfdbg_cheops_3',\n",
       " 'd2fdnorm_time2_cheops_3',\n",
       " 'flux_cor_g_lco',\n",
       " 'flux_cor_r_lco',\n",
       " 'flux_cor_i_lco',\n",
       " 'flux_cor_z_lco',\n",
       " 'flux_cor_r_sex',\n",
       " 'flux_cor_z_mcd',\n",
       " 'flux_cor_cheops_0',\n",
       " 'flux_cor_cheops_1',\n",
       " 'flux_cor_cheops_2',\n",
       " 'flux_cor_cheops_3',\n",
       " 'planets_x_g_lco',\n",
       " 'summodel_x_g_lco',\n",
       " 'planets_x_r_lco',\n",
       " 'summodel_x_r_lco',\n",
       " 'planets_x_i_lco',\n",
       " 'summodel_x_i_lco',\n",
       " 'planets_x_z_lco',\n",
       " 'summodel_x_z_lco',\n",
       " 'planets_x_r_sex',\n",
       " 'summodel_x_r_sex',\n",
       " 'planets_x_z_mcd',\n",
       " 'planets_x_cheops_0',\n",
       " 'planetmodels_t_cheops_0',\n",
       " 'planets_x_cheops_1',\n",
       " 'summodel_x_cheops_1',\n",
       " 'planetmodels_t_cheops_1',\n",
       " 'planets_x_cheops_2',\n",
       " 'planetmodels_t_cheops_2',\n",
       " 'planets_x_cheops_3',\n",
       " 'summodel_x_cheops_3',\n",
       " 'planetmodels_t_cheops_3',\n",
       " 'planets_x_tess',\n",
       " 'summodel_x_tess',\n",
       " 'logp']"
      ]
     },
     "execution_count": 5,
     "metadata": {},
     "output_type": "execute_result"
    }
   ],
   "source": [
    "trace.varnames"
   ]
  },
  {
   "cell_type": "code",
   "execution_count": null,
   "id": "b7564962",
   "metadata": {},
   "outputs": [],
   "source": [
    "data = Table()\n",
    "data['x'] = np.array([1, 2, 3], dtype=np.int32)\n",
    "data['y'] = data['x'] ** 2\n",
    "ascii.write(data, 'values.dat', overwrite=True)"
   ]
  }
 ],
 "metadata": {
  "kernelspec": {
   "display_name": "Python 3",
   "language": "python",
   "name": "python3"
  },
  "language_info": {
   "codemirror_mode": {
    "name": "ipython",
    "version": 3
   },
   "file_extension": ".py",
   "mimetype": "text/x-python",
   "name": "python",
   "nbconvert_exporter": "python",
   "pygments_lexer": "ipython3",
   "version": "3.9.6"
  }
 },
 "nbformat": 4,
 "nbformat_minor": 5
}
