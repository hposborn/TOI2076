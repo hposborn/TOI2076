{
 "cells": [
  {
   "cell_type": "markdown",
   "metadata": {},
   "source": [
    "# Parsing author data from csv"
   ]
  },
  {
   "cell_type": "markdown",
   "metadata": {},
   "source": [
    "You will need the following in your LaTeX header for the hyperlinks and ORCiD symbols to work:\n",
    "```\n",
    "\\usepackage{graphicx}\t% Including figure files\n",
    "\\usepackage{amsmath}\t% Advanced maths commands\n",
    "\\usepackage{scalerel}\n",
    "\\usepackage{tikz}\n",
    "\\usetikzlibrary{svg.path}\n",
    "\n",
    "\\definecolor{orcidlogocol}{HTML}{A6CE39}\n",
    "\\tikzset{\n",
    "  orcidlogo/.pic={\n",
    "    \\fill[orcidlogocol] svg{M256,128c0,70.7-57.3,128-128,128C57.3,256,0,198.7,0,128C0,57.3,57.3,0,128,0C198.7,0,256,57.3,256,128z};\n",
    "    \\fill[white] svg{M86.3,186.2H70.9V79.1h15.4v48.4V186.2z}\n",
    "                 svg{M108.9,79.1h41.6c39.6,0,57,28.3,57,53.6c0,27.5-21.5,53.6-56.8,53.6h-41.8V79.1z M124.3,172.4h24.5c34.9,0,42.9-26.5,42.9-39.7c0-21.5-13.7-39.7-43.7-39.7h-23.7V172.4z}\n",
    "                 svg{M88.7,56.8c0,5.5-4.5,10.1-10.1,10.1c-5.6,0-10.1-4.6-10.1-10.1c0-5.6,4.5-10.1,10.1-10.1C84.2,46.7,88.7,51.3,88.7,56.8z};\n",
    "  }\n",
    "}\n",
    "\n",
    "\\newcommand\\orcidicon[1]{\\href{https://orcid.org/#1}{\\mbox{\\scalerel*{\n",
    "\\begin{tikzpicture}[xscale=0.1,yscale=-0.1,transform shape]\n",
    "\\pic{orcidlogo};\n",
    "\\end{tikzpicture}\n",
    "}{|}}}}\n",
    "\n",
    "\\usepackage{hyperref}   %Needs to be at the end for some reason\n",
    "```\n"
   ]
  },
  {
   "cell_type": "code",
   "execution_count": 2,
   "metadata": {},
   "outputs": [],
   "source": [
    "import pandas as pd\n",
    "import numpy as np"
   ]
  },
  {
   "cell_type": "code",
   "execution_count": 17,
   "metadata": {},
   "outputs": [],
   "source": [
    "full_list=pd.read_csv(\"https://raw.githubusercontent.com/adleleu/author_list/main/CHEOPS_Science_Team.csv\")\n",
    "full_list=full_list.loc[full_list['Ref name']!='Mathias Beck']"
   ]
  },
  {
   "cell_type": "code",
   "execution_count": 3,
   "metadata": {},
   "outputs": [],
   "source": [
    "journal='a&a'\n",
    "if journal=='a&a':\n",
    "    authsep=\"\\\\and\"\n",
    "else:\n",
    "    authsep=\",\"\n",
    "    \n",
    "do_link=False\n",
    "\n",
    "orcbefore=False\n",
    "\n",
    "approved=True"
   ]
  },
  {
   "cell_type": "code",
   "execution_count": 4,
   "metadata": {},
   "outputs": [],
   "source": [
    "df=pd.read_csv(\"TOI-2076 author list.tsv\",delimiter='\\t',comment='#')"
   ]
  },
  {
   "cell_type": "code",
   "execution_count": 5,
   "metadata": {},
   "outputs": [],
   "source": [
    "df['surname']=[' '.join(v.split(' ')[1:]) if len(v.split(' ')[1])>2 else ' '.join(v.split(' ')[2:]) for v in df.NAME.values]"
   ]
  },
  {
   "cell_type": "code",
   "execution_count": 6,
   "metadata": {},
   "outputs": [],
   "source": [
    "lead_author = df.loc[df.index.values==0]\n",
    "second_authors = df.loc[df[\"Rank position\"]==\"MC\"].sort_values('surname')\n",
    "third_authors = df.loc[df[\"Rank position\"]==\"SE\"].sort_values('surname')\n",
    "fourth_authors = df.loc[df[\"Rank position\"]==\"SC\"].sort_values('surname')\n",
    "other_authors = df.loc[(df[\"Rank position\"]!=\"SC\")&(df[\"Rank position\"]!=\"SE\")&(df[\"Rank position\"]!=\"MC\")&(df.index>0)].sort_values('surname')"
   ]
  },
  {
   "cell_type": "code",
   "execution_count": 6,
   "metadata": {},
   "outputs": [],
   "source": [
    "all_affils=[]\n",
    "df['N_AFFILS']=np.tile(-99,len(df))\n",
    "start_latex=\"\\\\author{\"\n",
    "\n",
    "auth=lead_author.iloc[0]\n",
    "n=0\n",
    "#First author info:        \n",
    "if (not do_link) or journal!='a&a':\n",
    "    if auth['AFFILIATION 1 (Latex-compatible)'] in all_affils:\n",
    "        naffil=str(all_affils.index(auth['AFFILIATION 1 (Latex-compatible)'])+1)\n",
    "        df.loc[n,'N_AFFILS']=\"\\\\inst{\"+naffil+\"}\"\n",
    "    else:\n",
    "        naffil=str(len(all_affils)+1)\n",
    "        df.loc[n,'N_AFFILS']=\"\\\\inst{\"+naffil+\"}\"\n",
    "        all_affils+=[auth['AFFILIATION 1 (Latex-compatible)']]\n",
    "    if not pd.isnull(auth['AFFILIATION 2 (Latex-compatible)']) and auth['AFFILIATION 2 (Latex-compatible)'] in all_affils:\n",
    "        naffil=str(all_affils.index(auth['AFFILIATION 2 (Latex-compatible)'])+1)\n",
    "        df.loc[n,'N_AFFILS']+=\"\\\\fnmsep\"+\"\\\\inst{\"+naffil+\"}\"\n",
    "    elif not pd.isnull(auth['AFFILIATION 2 (Latex-compatible)']):\n",
    "        naffil=str(len(all_affils)+1)\n",
    "        df.loc[n,'N_AFFILS']+=\"\\\\fnmsep\"+\"\\\\inst{\"+naffil+\"}\"\n",
    "        all_affils+=[auth['AFFILIATION 2 (Latex-compatible)']]\n",
    "\n",
    "else:\n",
    "    if auth['AFFILIATION 1 (Latex-compatible)'] in all_affils:\n",
    "        naffil=str(all_affils.index(auth['AFFILIATION 1 (Latex-compatible)'])+1)\n",
    "        df.loc[n,'N_AFFILS']=\"\\\\hyperlink{affil_\"+naffil+\"}{\"+naffil+\"}\"\n",
    "    else:\n",
    "        naffil=str(len(all_affils)+1)\n",
    "        df.loc[n,'N_AFFILS']=\"\\\\hyperlink{affil_\"+naffil+\"}{\"+naffil+\"}\"\n",
    "        all_affils+=[auth['AFFILIATION 1 (Latex-compatible)']]\n",
    "    if not pd.isnull(auth['AFFILIATION 2 (Latex-compatible)']) and auth['AFFILIATION 2 (Latex-compatible)'] in all_affils:\n",
    "        naffil=str(all_affils.index(auth['AFFILIATION 2 (Latex-compatible)'])+1)\n",
    "        df.loc[n,'N_AFFILS']+=\",\"+\"\\\\hyperlink{affil_\"+naffil+\"}{\"+naffil+\"}\"\n",
    "    elif not pd.isnull(auth['AFFILIATION 2 (Latex-compatible)']):\n",
    "        naffil=str(len(all_affils)+1)\n",
    "        df.loc[n,'N_AFFILS']+=\",\"+\"\\\\hyperlink{affil_\"+naffil+\"}{\"+naffil+\"}\"\n",
    "        all_affils+=[auth['AFFILIATION 2 (Latex-compatible)']]\n",
    "\n",
    "#Making first name into initial:\n",
    "if '.' not in auth['NAME'].split(' ')[0]:\n",
    "    abrv_firstname=auth['NAME'].split(' ')[0][0]+'. ' if '-' not in auth['NAME'].split(' ')[0] else auth['NAME'].split(' ')[0].split('-')[0][0]+'.-'+auth['NAME'].split(' ')[0].split('-')[1][0]+'. '\n",
    "    name=abrv_firstname+'~'.join(auth['NAME'].split(' ')[1:])\n",
    "else:\n",
    "    name=auth['NAME']\n",
    "if len(name.split('. '))>2:\n",
    "    name='.'.join(name.split('. ')[:-1])+'. '+name.split('. ')[-1]\n",
    "name=name.replace(' ','~')\n",
    "\n",
    "#adding ORCiD:\n",
    "if not pd.isnull(auth['ORCiD']):\n",
    "    if not do_link or journal!='a&a':\n",
    "        orc=\"\\\\textsuperscript{\\\\orcidicon{\"+str(auth['ORCiD'])+\"},}\" if orcbefore else \"\\\\textsuperscript{,\\\\orcidicon{\"+str(auth['ORCiD'])+\"}}\"\n",
    "    else:\n",
    "        orc=\"\\\\orcidicon{\"+str(auth['ORCiD'])+\",}\" if orcbefore else \"\\\\orcidicon{,\"+str(auth['ORCiD'])+\"}\"\n",
    "else:\n",
    "    orc=\"\"\n",
    "    \n",
    "thanks=\"\\\\thanks{E-mail:\"+auth[\"EMAIL (optional)\"]+\"} \"\n",
    "\n",
    "#adding author info to latex:\n",
    "if not do_link or journal!='a&a':\n",
    "    start_latex+=name+orc+df.loc[n,'N_AFFILS']+thanks+authsep+' %' if orcbefore else name+df.loc[n,'N_AFFILS']+orc+thanks+authsep+' %'\n",
    "\n",
    "else:\n",
    "    start_latex+=name+'\\\\textsuperscript{'+orc+df.loc[n,'N_AFFILS']+'}'+thanks+authsep+' %' if orcbefore else name+'\\\\textsuperscript{'+df.loc[n,'N_AFFILS']+orc+'}'+thanks+authsep+' %'\n",
    "if not pd.isnull(auth[\"EMAIL (optional)\"]):\n",
    "    start_latex+=' '+auth[\"EMAIL (optional)\"]\n",
    "if not pd.isnull(auth[\"CONTRIBUTION\"]):\n",
    "    start_latex+=' '+auth[\"CONTRIBUTION\"]\n",
    "start_latex+='\\n'\n",
    "\n",
    "\n",
    "if not approved:\n",
    "    start_latex+=\"\\\\textbf{Author list TBD \\\\& pending Cheops GTO approval} \\\\and\\n\"\n",
    "    \n",
    "all_names=name+', '"
   ]
  },
  {
   "cell_type": "code",
   "execution_count": 7,
   "metadata": {},
   "outputs": [
    {
     "name": "stdout",
     "output_type": "stream",
     "text": [
      "\\author{H.P.~Osborn\\inst{1}\\fnmsep\\inst{2}\\textsuperscript{,\\orcidicon{0000-0002-4047-4724}}\\thanks{E-mail:hugh.osborn@space.unibe.ch} \\and % hugh.osborn@space.unibe.ch First author\n",
      "\n"
     ]
    }
   ],
   "source": [
    "print(start_latex)"
   ]
  },
  {
   "cell_type": "code",
   "execution_count": 8,
   "metadata": {},
   "outputs": [],
   "source": [
    "for idf in [second_authors,third_authors,fourth_authors,other_authors]:\n",
    "    for n,auth in idf.iterrows():\n",
    "        #Creating affiliations:\n",
    "        if not do_link or journal!='a&a':\n",
    "            if auth['AFFILIATION 1 (Latex-compatible)'] in all_affils:\n",
    "                naffil=str(all_affils.index(auth['AFFILIATION 1 (Latex-compatible)'])+1)\n",
    "                df.loc[n,'N_AFFILS']=\"\\\\inst{\"+naffil+\"}\"\n",
    "            else:\n",
    "                naffil=str(len(all_affils)+1)\n",
    "                df.loc[n,'N_AFFILS']=\"\\\\inst{\"+naffil+\"}\"\n",
    "                all_affils+=[auth['AFFILIATION 1 (Latex-compatible)']]\n",
    "            if not pd.isnull(auth['AFFILIATION 2 (Latex-compatible)']) and auth['AFFILIATION 2 (Latex-compatible)'] in all_affils:\n",
    "                naffil=str(all_affils.index(auth['AFFILIATION 2 (Latex-compatible)'])+1)\n",
    "                df.loc[n,'N_AFFILS']+=\"\\\\fnmsep\"+\"\\\\inst{\"+naffil+\"}\"\n",
    "            elif not pd.isnull(auth['AFFILIATION 2 (Latex-compatible)']):\n",
    "                naffil=str(len(all_affils)+1)\n",
    "                df.loc[n,'N_AFFILS']+=\"\\\\fnmsep\"+\"\\\\inst{\"+naffil+\"}\"\n",
    "                all_affils+=[auth['AFFILIATION 2 (Latex-compatible)']]\n",
    "\n",
    "        else:\n",
    "            if auth['AFFILIATION 1 (Latex-compatible)'] in all_affils:\n",
    "                naffil=str(all_affils.index(auth['AFFILIATION 1 (Latex-compatible)'])+1)\n",
    "                df.loc[n,'N_AFFILS']=\"\\\\hyperlink{affil_\"+naffil+\"}{\"+naffil+\"}\"\n",
    "            else:\n",
    "                naffil=str(len(all_affils)+1)\n",
    "                df.loc[n,'N_AFFILS']=\"\\\\hyperlink{affil_\"+naffil+\"}{\"+naffil+\"}\"\n",
    "                all_affils+=[auth['AFFILIATION 1 (Latex-compatible)']]\n",
    "            if not pd.isnull(auth['AFFILIATION 2 (Latex-compatible)']) and auth['AFFILIATION 2 (Latex-compatible)'] in all_affils:\n",
    "                naffil=str(all_affils.index(auth['AFFILIATION 2 (Latex-compatible)'])+1)\n",
    "                df.loc[n,'N_AFFILS']+=\",\"+\"\\\\hyperlink{affil_\"+naffil+\"}{\"+naffil+\"}\"\n",
    "            elif not pd.isnull(auth['AFFILIATION 2 (Latex-compatible)']):\n",
    "                naffil=str(len(all_affils)+1)\n",
    "                df.loc[n,'N_AFFILS']+=\",\"+\"\\\\hyperlink{affil_\"+naffil+\"}{\"+naffil+\"}\"\n",
    "                all_affils+=[auth['AFFILIATION 2 (Latex-compatible)']]\n",
    "\n",
    "        #Making first name into initial:\n",
    "        if '.' not in auth['NAME'].split(' ')[0]:\n",
    "            abrv_firstname=auth['NAME'].split(' ')[0][0]+'. ' if '-' not in auth['NAME'].split(' ')[0] else auth['NAME'].split(' ')[0].split('-')[0][0]+'.-'+auth['NAME'].split(' ')[0].split('-')[1][0]+'. '\n",
    "            name=abrv_firstname+'~'.join(auth['NAME'].split(' ')[1:])\n",
    "        else:\n",
    "            name=auth['NAME']\n",
    "        if len(name.split('. '))>2:\n",
    "            name='.'.join(name.split('. ')[:-1])+'. '+name.split('. ')[-1]\n",
    "        name=name.replace(' ','~')\n",
    "        \n",
    "\n",
    "        #adding ORCiD:\n",
    "        if not pd.isnull(auth['ORCiD']):\n",
    "            if not do_link or journal!='a&a':\n",
    "                orc=\"\\\\orcidicon{\"+str(auth['ORCiD'])+\"}\" if orcbefore else \"\\\\orcidicon{\"+str(auth['ORCiD'])+\"}\"\n",
    "            else:\n",
    "                orc=\"\\\\orcidicon{\"+str(auth['ORCiD'])+\"}\" if orcbefore else \"\\\\orcidicon{\"+str(auth['ORCiD'])+\"}\"\n",
    "        else:\n",
    "            orc=\"\"\n",
    "\n",
    "        #adding author info to latex:\n",
    "        if not do_link or journal!='a&a':\n",
    "            start_latex+=name+orc+df.loc[n,'N_AFFILS']+' '+authsep+' %' if orcbefore else name+df.loc[n,'N_AFFILS']+orc+' '+authsep+' %'\n",
    "\n",
    "        else:\n",
    "            start_latex+=name+orc+df.loc[n,'N_AFFILS']+'} '+authsep+' %' if orcbefore else name+'{'+df.loc[n,'N_AFFILS']+orc+' '+authsep+' %'\n",
    "        if not pd.isnull(auth[\"EMAIL (optional)\"]):\n",
    "            start_latex+=' '+auth[\"EMAIL (optional)\"]\n",
    "        if not pd.isnull(auth[\"CONTRIBUTION\"]):\n",
    "            start_latex+=' '+auth[\"CONTRIBUTION\"]\n",
    "        start_latex+='\\n'\n",
    "        \n",
    "        all_names+=name+', '\n"
   ]
  },
  {
   "cell_type": "code",
   "execution_count": 9,
   "metadata": {},
   "outputs": [
    {
     "data": {
      "text/plain": [
       "'H.P.Osborn, A.Bonfanti, D.Gandolfi, C.Hedges, A.Leleu, A.Fortier, D.Futyan, P.Gutermann, P.F.L.Maxted, L.Borsato, K.A.Collins, J.GomesdaSilva, Y.GómezMaqueoChew, M.J.Hooton, M.Lendl, H.Parviainen, S.Salmon, N.Schanche, L.M.Serrano, S.G.Sousa, A.Tuson, S.Ulmer-Moll, V.VanGrootel, R.D.Wells, T.G.Wilson, Y.Alibert, R.Alonso, G.Anglada, J.Asquier, D.BarradoyNavascues, W.Baumjohann, T.Beck, W.Benz, F.Biondi, X.Bonfils, F.Bouchy, A.Brandeker, C.Broeg, T.Bárczy, S.C.C.Barros, J.Cabrera, S.Charnoz, A.CollierCameron, S.Csizmadia, M.B.Davies, M.Deleuil, L.Delrez, B.-O.Demory, D.Ehrenreich, A.Erikson, L.Fossati, M.Fridlund, M.Gillon, M.A.Gómez-Muñoz, M.Güdel, K.Heng, S.Hoyer, K.G.Isaak, L.Kiss, J.Laskar, A.LecavelierdesEtangs, C.Lovis, D.Magrin, L.Malavolta, J.McCormac, V.Nascimbeni, G.Olofsson, R.Ottensamer, I.Pagano, E.Pallé, G.Peter, D.Piazza, G.Piotto, D.Pollacco, D.Queloz, R.Ragazzoni, N.Rando, H.Rauer, C.Reimers, I.Ribas, O.D.S.Demangeon, A.M.S.Smith, L.Sabin, N.Santos, G.Scandariato, U.Schroffenegger, R.P.Schwarz, A.Shporer, A.E.Simon, M.Steller, G.M.Szabó, D.Ségransan, N.Thomas, S.Udry, I.Walter, N.Walton, '"
      ]
     },
     "execution_count": 9,
     "metadata": {},
     "output_type": "execute_result"
    }
   ],
   "source": [
    "all_names.replace('~','')"
   ]
  },
  {
   "cell_type": "code",
   "execution_count": 10,
   "metadata": {},
   "outputs": [
    {
     "name": "stdout",
     "output_type": "stream",
     "text": [
      "inst{59} \\and % naw@ast.cam.ac.uk Cheops GTO team\n",
      "\n",
      "ton\\inst{59}  % naw@ast.cam.ac.uk Cheops GTO team\n",
      "\n"
     ]
    }
   ],
   "source": [
    "#Removing the last \"and\"\n",
    "print(start_latex[-50:])\n",
    "start_latex=start_latex[:-50]+start_latex[-50:].replace(\"\\\\and\",\"\")\n",
    "print(start_latex[-50:])"
   ]
  },
  {
   "cell_type": "code",
   "execution_count": 11,
   "metadata": {},
   "outputs": [
    {
     "data": {
      "text/plain": [
       "'\\\\author{H.P.~Osborn\\\\inst{1}\\\\fnmsep\\\\inst{2}\\\\textsuperscript{,\\\\orcidicon{0000-0002-4047-4724}}\\\\thanks{E-mail:hugh.osborn@space.unibe.ch} \\\\and % hugh.osborn@space.unibe.ch First author\\nA.~Bonfanti\\\\inst{3}\\\\orcidicon{0000-0002-1916-5935} \\\\and % andrea.bonfanti@oeaw.ac.at Stellar parameters\\nD.~Gandolfi\\\\inst{4}\\\\orcidicon{0000-0001-8627-9628} \\\\and % davide.gandolfi@unito.it Advisor to Cheops duotransits team & Explore Program manager\\nC.~Hedges\\\\inst{5}\\\\fnmsep\\\\inst{6}\\\\orcidicon{0000-0002-3385-8391} \\\\and % christina.l.hedges@nasa.gov TESS lightcurve, knowledge of duotransits system\\nA.~Leleu\\\\inst{7}\\\\orcidicon{0000-0003-2051-7974} \\\\and % Adrien.Leleu@unige.ch MMR analysis\\nA.~Fortier\\\\inst{1}\\\\fnmsep\\\\inst{8}\\\\orcidicon{0000-0001-8450-3374} \\\\and % andrea.fortier@unibe.ch Cheops GTO team; Cheops Science Enabler nom. by DQ\\nD.~Futyan\\\\inst{7} \\\\and % David.Futyan@unige.ch Cheops Science Enabler nom. by DQ\\nP.~Gutermann\\\\inst{9}\\\\fnmsep\\\\inst{10} \\\\and % pascal.guterman@lam.fr Cheops Science Enabler nom. by DQ\\nP.~F.~L.~Maxted\\\\inst{11} \\\\and % p.maxted@keele.ac.uk Cheops GTO team; Cheops Science Enabler nom. by DQ\\nL.~Borsato\\\\inst{12}\\\\orcidicon{0000-0003-0066-9268} \\\\and % luca.borsato@inaf.it Stability analysis\\nK.A.~Collins\\\\inst{13}\\\\orcidicon{0000-0001-6588-9574} \\\\and % karen.collins@cfa.harvard.edu SG1 coordination and data analysis\\nJ.~Gomes~da~Silva\\\\inst{14}\\\\orcidicon{0000-0001-8056-9202} \\\\and % Joao.Silva@astro.up.pt TS3 analysis\\nY.~Gómez~Maqueo~Chew\\\\inst{15}\\\\orcidicon{0000-0002-7486-6726} \\\\and % ygmc@astro.unam.mx SAINT-EX (major)\\nM.~J.~Hooton\\\\inst{1}\\\\orcidicon{0000-0003-0030-332X} \\\\and % matthew.hooton@unibe.ch Support with ground-based data\\nM.~Lendl\\\\inst{7}\\\\orcidicon{0000-0001-9699-1459} \\\\and % monika.lendl@oeaw.ac.at Advisor to Cheops duotransits team\\nH.~Parviainen\\\\inst{16}\\\\fnmsep\\\\inst{17}\\\\orcidicon{0000-0001-5519-1391} \\\\and % hannu@iac.es MuSCAT-3 extraction\\nS.~Salmon\\\\inst{7} \\\\and % sebastien.salmon@uliege.be TS3 analysis\\nN.~Schanche\\\\inst{8}\\\\orcidicon{0000-0002-9526-3780} \\\\and % nicole.schanche@unibe.ch SAINT-EX (major)\\nL.M.~Serrano\\\\inst{4} \\\\and % luisamaria.serrano@unito.it Explore involvement. Paper comments\\nS.G.~Sousa\\\\inst{14}\\\\orcidicon{0000-0001-9047-2965} \\\\and % sergio.sousa@astro.up.pt Stellar parameters\\nA.~Tuson\\\\inst{18}\\\\orcidicon{0000-0002-2830-9064} \\\\and % alt59@cam.ac.uk Key member of Cheops duotransits team\\nS.~Ulmer-Moll\\\\inst{7}\\\\orcidicon{0000-0003-2417-7006} \\\\and % solene.ulmer-moll@unige.ch Key member of Cheops duotransits team\\nV.~Van~Grootel\\\\inst{19}\\\\orcidicon{0000-0003-2144-4316} \\\\and % valerie.vangrootel@uliege.be Stellar parameters\\nR.D.~Wells\\\\inst{8}\\\\orcidicon{0000-0002-7240-8473} \\\\and % robert.wells@unibe.ch SAINT-EX (major)\\nT.G.~Wilson\\\\inst{20}\\\\orcidicon{0000-0001-8749-1962} \\\\and % tgw1@st-andrews.ac.uk Stellar parameters\\nY.~Alibert\\\\inst{1}\\\\orcidicon{0000-0002-4644-8818} \\\\and % yann.alibert@unibe.ch Cheops GTO team\\nR.~Alonso\\\\inst{21}\\\\fnmsep\\\\inst{22}\\\\orcidicon{0000-0001-8462-8126} \\\\and % ras@iac.es Cheops GTO team\\nG.~Anglada\\\\inst{23}\\\\fnmsep\\\\inst{24} \\\\and % anglada@ice.csic.es Cheops GTO team\\nJ.~Asquier\\\\inst{25} \\\\and % joel.asquier@esa.int  CHEOPS Technical Staff\\nD.~Barrado~y~Navascues\\\\inst{26} \\\\and % barrado@cab.inta-csic.es Cheops GTO team\\nW.~Baumjohann\\\\inst{27}\\\\orcidicon{0000-0001-6271-0110} \\\\and % baumjohann@oeaw.ac.at Cheops GTO team\\nT.~Beck\\\\inst{1} \\\\and % thomas.beck@csh.unibe.ch Cheops GTO team\\nW.~Benz\\\\inst{1}\\\\fnmsep\\\\inst{8} \\\\and % willy.benz@unibe.ch Cheops GTO team\\nF.~Biondi\\\\inst{28}\\\\fnmsep\\\\inst{29} \\\\and % biondi@mpe.mpg.de;federico.biondi@inaf.it CHEOPS Technical Staff\\nX.~Bonfils\\\\inst{30} \\\\and % xavier.bonfils@obs.ujf-grenoble.fr Cheops GTO team\\nF.~Bouchy\\\\inst{7} \\\\and % Francois.Bouchy@unige.ch SAINT-EX\\nA.~Brandeker\\\\inst{31}\\\\orcidicon{0000-0002-7201-7536} \\\\and % alexis@astro.su.se Cheops GTO team\\nC.~Broeg\\\\inst{1}\\\\fnmsep\\\\inst{8}\\\\orcidicon{0000-0001-5132-2614} \\\\and % christopher.broeg@unibe.ch Cheops GTO team\\nT.~Bárczy\\\\inst{32} \\\\and % tamas.barczy@admatis.com Cheops GTO team\\nS.C.C.~Barros\\\\inst{14}\\\\fnmsep\\\\inst{33}\\\\orcidicon{0000-0003-2434-3625} \\\\and % susana.barros@astro.up.pt Cheops GTO team\\nJ.~Cabrera\\\\inst{34}\\\\orcidicon{0000-0001-6653-5487 } \\\\and % juan.cabrera@dlr.de Cheops GTO team\\nS.~Charnoz\\\\inst{35} \\\\and % charnoz@ipgp.fr Cheops GTO team\\nA.~Collier~Cameron\\\\inst{20}\\\\orcidicon{0000-0002-8863-7828} \\\\and % acc4@st-andrews.ac.uk Cheops GTO team\\nS.~Csizmadia\\\\inst{34} \\\\and % szilard.csizmadia@dlr.de Cheops GTO team\\nM.~B.~Davies\\\\inst{36}\\\\orcidicon{0000-0001-6080-1190} \\\\and % melvyn_b.davies@math.lu.se Cheops GTO team\\nM.~Deleuil\\\\inst{9} \\\\and % magali.deleuil@lam.fr Cheops GTO team\\nL.~Delrez\\\\inst{37}\\\\fnmsep\\\\inst{38} \\\\and % ldelrez@uliege.be Cheops GTO team\\nB.-O.~Demory\\\\inst{39} \\\\and % brice.demory@csh.unibe.ch Cheops GTO team; Saint-Ex contribution\\nD.~Ehrenreich\\\\inst{7} \\\\and % david.ehrenreich@unige.ch Cheops GTO team\\nA.~Erikson\\\\inst{34} \\\\and % Anders.Erikson@dlr.de Cheops GTO team\\nL.~Fossati\\\\inst{27} \\\\and % Luca.Fossati@oeaw.ac.at Cheops GTO team\\nM.~Fridlund\\\\inst{40}\\\\fnmsep\\\\inst{41} \\\\and % fridlund@strw.leidenuniv.nl Cheops GTO team\\nM.~Gillon\\\\inst{37} \\\\and % michael.gillon@ulg.ac.be Cheops GTO team\\nM.A.~Gómez-Muñoz\\\\inst{42}\\\\orcidicon{0000-0002-3938-4211} \\\\and % mgomez@astro.unam.mx SAINT-EX\\nM.~Güdel\\\\inst{43} \\\\and % manuel.guedel@univie.ac.at Cheops GTO team\\nK.~Heng\\\\inst{39}\\\\fnmsep\\\\inst{44} \\\\and % kevin.heng@csh.unibe.ch Cheops GTO team\\nS.~Hoyer\\\\inst{9} \\\\and % sergio.hoyer@lam.fr Cheops GTO team\\nK.~G.~Isaak\\\\inst{45} \\\\and % Cheops GTO team\\nL.~Kiss\\\\inst{46}\\\\fnmsep\\\\inst{47} \\\\and % kiss@konkoly.hu Cheops GTO team\\nJ.~Laskar\\\\inst{48} \\\\and % laskar@imcce.fr Cheops GTO team\\nA.~Lecavelier~des~Etangs\\\\inst{49} \\\\and % lecaveli@iap.fr Cheops GTO team\\nC.~Lovis\\\\inst{7} \\\\and % christophe.lovis@unige.ch Cheops GTO team\\nD.~Magrin\\\\inst{12} \\\\and % demetrio.magrin@inaf.it Cheops GTO team\\nL.~Malavolta\\\\inst{50}\\\\fnmsep\\\\inst{12}\\\\orcidicon{0000-0002-6492-2085} \\\\and % luca.malavolta@unipd.it Contribution of GAPS data to TS3 analysis\\nJ.~McCormac\\\\inst{44} \\\\and % j.j.mccormac@warwick.ac.uk SAINT-EX\\nV.~Nascimbeni\\\\inst{12} \\\\and % valerio.nascimbeni@inaf.it Cheops GTO team\\nG.~Olofsson\\\\inst{31} \\\\and % olofsson@astro.su.se Cheops GTO team\\nR.~Ottensamer\\\\inst{43} \\\\and % roland.ottensamer@univie.ac.at Cheops GTO team\\nI.~Pagano\\\\inst{51} \\\\and % isabella.pagano@inaf.it Cheops GTO team\\nE.~Pallé\\\\inst{21}\\\\fnmsep\\\\inst{52}\\\\orcidicon{0000-0003-0987-1593} \\\\and % epalle@iac.es Cheops GTO team\\nG.~Peter\\\\inst{34} \\\\and % gisbert.peter@dlr.de Cheops GTO team\\nD.~Piazza\\\\inst{1} \\\\and % daniele.piazza@unibe.ch CHEOPS Technical Staff\\nG.~Piotto\\\\inst{50}\\\\fnmsep\\\\inst{12} \\\\and % giampaolo.piotto@unipd.it Cheops GTO team\\nD.~Pollacco\\\\inst{44} \\\\and % d.pollacco@warwick.ac.uk Cheops GTO team\\nD.~Queloz\\\\inst{7}\\\\fnmsep\\\\inst{53} \\\\and % didier.queloz@unige.ch Cheops GTO team\\nR.~Ragazzoni\\\\inst{12}\\\\fnmsep\\\\inst{50} \\\\and % roberto.ragazzoni@inaf.it Cheops GTO team\\nN.~Rando\\\\inst{25} \\\\and % nicola.rando@esa.int Cheops GTO team\\nH.~Rauer\\\\inst{34}\\\\fnmsep\\\\inst{54} \\\\and % Heike.Rauer@dlr.de Cheops GTO team\\nC.~Reimers\\\\inst{43} \\\\and % christian.reimers@univie.ac.at CHEOPS Technical Staff\\nI.~Ribas\\\\inst{23}\\\\fnmsep\\\\inst{24} \\\\and % iribas@ice.cat Cheops GTO team\\nO.~D.~S.~Demangeon\\\\inst{14}\\\\fnmsep\\\\inst{33}\\\\orcidicon{0000-0001-7918-0355} \\\\and % olivier.demangeon@astro.up.pt Cheops GTO team\\nA.~M.~S.~Smith\\\\inst{34}\\\\orcidicon{0000-0002-2386-4341} \\\\and % alexis.smith@dlr.de Cheops GTO team\\nL.~Sabin\\\\inst{42}\\\\orcidicon{0000-0003-0242-0044} \\\\and % lsabin@astro.unam.mx SAINT-EX\\nN.~Santos\\\\inst{14}\\\\fnmsep\\\\inst{33} \\\\and % nuno.santos@astro.up.pt Cheops GTO team\\nG.~Scandariato\\\\inst{51}\\\\orcidicon{0000-0003-2029-0626} \\\\and % gaetano.scandariato@inaf.it Cheops GTO team\\nU.~Schroffenegger\\\\inst{8} \\\\and % urs.schroffenegger@unibe.ch SAINT-EX\\nR.P.~Schwarz\\\\inst{55}\\\\orcidicon{0000-0001-8227-1020} \\\\and % rpschwarz@comcast.net Contributed to SG1 LCO ground-based photometry\\nA.~Shporer\\\\inst{2}\\\\orcidicon{0000-0002-1836-3120} \\\\and % shporer@mit.edu Contributed to SG1 LCO ground-based photometry\\nA.~E.~Simon\\\\inst{1}\\\\orcidicon{0000-0001-9773-2600} \\\\and % attila.simon@unibe.ch Cheops GTO team\\nM.~Steller\\\\inst{27} \\\\and % Manfred.Steller@oeaw.ac.at Cheops GTO team\\nG.~M.~Szabó\\\\inst{56}\\\\fnmsep\\\\inst{57} \\\\and % szgy@konkoly.hu; szgy@gothard.hu Cheops GTO team\\nD.~Ségransan\\\\inst{7} \\\\and % damien.segransan@unige.ch Cheops GTO team\\nN.~Thomas\\\\inst{1} \\\\and % nicolas.thomas@unibe.ch Cheops GTO team\\nS.~Udry\\\\inst{7}\\\\orcidicon{0000-0001-7576-6236} \\\\and % stephane.udry@unige.ch Cheops GTO team\\nI.~Walter\\\\inst{58} \\\\and % Ingo.walter@dlr.de CHEOPS Technical Staff\\nN.~Walton\\\\inst{59}  % naw@ast.cam.ac.uk Cheops GTO team\\n'"
      ]
     },
     "execution_count": 11,
     "metadata": {},
     "output_type": "execute_result"
    }
   ],
   "source": [
    "start_latex"
   ]
  },
  {
   "cell_type": "code",
   "execution_count": 12,
   "metadata": {},
   "outputs": [],
   "source": [
    "if journal!='a&a':\n",
    "    start_latex+=\"}\\\\\\\\\\n\\\\vspace{0.4cm}\\n\\\\parbox{\\\\textwidth}{\\nThe authors' affiliations are shown in Appendix \\\\ref{sec:affiliations}.}\\n}\"\n",
    "elif do_link:\n",
    "    start_latex+=\"}\\n\\institute{The authors' affiliations are shown in Appendix \\\\ref{sec:affiliations}.\\n}\"\n",
    "else:\n",
    "    start_latex+=\"}\\n\"\n",
    "    "
   ]
  },
  {
   "cell_type": "code",
   "execution_count": 13,
   "metadata": {},
   "outputs": [
    {
     "name": "stdout",
     "output_type": "stream",
     "text": [
      "HA, United Kingdom \\and\n",
      "}\n",
      "B3 0HA, United Kingdom \n",
      "}\n"
     ]
    }
   ],
   "source": [
    "aff_box=\"\"\n",
    "if not do_link and journal=='a&a':\n",
    "    aff_box+=\"\\\\institute{\"\n",
    "for n,row in enumerate(all_affils):\n",
    "    if do_link:\n",
    "        aff_box+=\"\\\\textsuperscript{\\\\hypertarget{affil_\"+str(n+1)+\"}{\"+str(n+1)+\"}} \"\n",
    "    aff_box+=row\n",
    "    if journal=='a&a':\n",
    "        aff_box+=\" \\\\and\"\n",
    "    elif row[-2]!='\\\\':\n",
    "        aff_box+=\"\\\\\\\\\"\n",
    "    aff_box+=\"\\n\"\n",
    "if not do_link and journal=='a&a':\n",
    "    aff_box+=\"}\"\n",
    "\n",
    "#Removing the last \"and\"\n",
    "print(aff_box[-25:])\n",
    "aff_box=aff_box[:-25]+aff_box[-25:].replace(\"\\\\and\",\"\")\n",
    "print(aff_box[-25:])"
   ]
  },
  {
   "cell_type": "code",
   "execution_count": 14,
   "metadata": {
    "scrolled": false
   },
   "outputs": [],
   "source": [
    "with open(\"authorlist.tex\",\"w\") as file:\n",
    "    file.writelines(start_latex+'''\n",
    "%%%%%%%%%%%%%%%%%%%%%%%%%%%%%%%%%%%%%%%%%%%%%%%%%%%%%%%\n",
    "%.    WARNING:  DO NOT EDIT YOUR AUTHOR INFO HERE.    %\n",
    "%%%%%%%%%%%%%%%%%%%%%%%%%%%%%%%%%%%%%%%%%%%%%%%%%%%%%%%\n",
    "%\n",
    "% Author info is auto-generated from this google spreadsheet: https://docs.google.com/spreadsheets/d/17KRQMYalFKKTm0ZJO5wHxUhVfgf1chrhw8q7WHVYig0/edit?usp=sharing \n",
    "%\n",
    "'''+aff_box)"
   ]
  },
  {
   "cell_type": "code",
   "execution_count": 15,
   "metadata": {},
   "outputs": [],
   "source": [
    "acks=[]\n",
    "for n,row in df.iterrows():\n",
    "    if type(row['ACKNOWLEDGEMENT (Latex-compatible)'])==str:\n",
    "        ack=row['ACKNOWLEDGEMENT (Latex-compatible)']\n",
    "        #ack=ack.split('\\\\')[0] if '\\\\' in ack else ack \n",
    "        acks+=[ack+\"\\\\\\\\ %\"+row['NAME']]\n",
    "with open(\"acknowledgements.tex\",\"w\") as file:\n",
    "    file.writelines('\\n'.join(acks))"
   ]
  },
  {
   "cell_type": "code",
   "execution_count": 16,
   "metadata": {},
   "outputs": [
    {
     "name": "stdout",
     "output_type": "stream",
     "text": [
      "This work makes use of observations from the LCOGT network. Part of the LCOGT telescope time was granted by NOIRLab through the Mid-Scale Innovations Program (MSIP). MSIP is funded by NSF.\\\\ %K. A. Collins\n",
      "AT acknowledges support from an STFC PhD studentship.\\\\ %A. Tuson\n",
      "This work has been carried out within the framework of the NCCR PlanetS supported by the Swiss National Science Foundation.\\\\ %S. Ulmer-Moll\n",
      "DG and LMS gratefully acknowledge financial support from the \\emph{Cassa di Risparmio di Torino} (CRT) foundation under Grant No. 2018.2323 ``Gaseousor rocky? Unveiling the nature of small worlds''.\\\\ %D. Gandolfi\n",
      "S.G.S acknowledges the support from FCT through Investigador FCT contract nr. CEECIND/00826/2018 and  POPH/FSE (EC). This  work  was  supported  by FCT - Fundac\\c{c}\\~ao  para  a  Ci\\^encia  e  Tecnologia through national  funds and by FEDER through COMPETE2020 - Programa Operacional Competitividade e Internacionaliza\\c{c}\\~ao by these grants:PTDC/FIS-AST/32113/2017 \\& POCI-01-0145-FEDER-032113; PTDC/FIS-AST/28953/2017 \\& POCI-01-0145-FEDER-028953; PTDC/FIS-AST/28987/2017 \\& POCI-01-0145-FEDER-028987.\\\\ %S.G. Sousa\n",
      "ACC and TGW acknowledge support from STFC consolidated grant numbers ST/R000824/1 and ST/V000861/1, and UKSA grant ST/R003203/1. \\\\ %T.G. Wilson\n",
      "V.V.G. is a F.R.S.-FNRS Research Associate. The Belgian participation to CHEOPS has been supported by the Belgian Federal Science Policy Office (BELSPO) in the framework of the PRODEX Program, and by the University of Li\\`ege through an ARC grant for Concerted Research Actions financed by the Wallonia-Brussels Federation.\\\\ %Valerie Van Grootel\n",
      "LBo, GPi, VNa, GSs, IPa, and RRa acknowledge the funding support from Italian Space Agency (ASI) regulated by ``Accordo ASI-INAF n. 2013-016-R.0 del 9 luglio 2013 e integrazione del 9 luglio 2015 CHEOPS Fasi A/B/C''.\\\\ %L. Borsato\n",
      "MJH and YA acknowledge the support of the Swiss National Fund under grant 200020\\_172746.\\\\ %Matthew J. Hooton\n",
      "M.L. acknowledges support of the Swiss National Science Foundation under grant number PCEFP2\\_194576.\\\\ %M. Lendl\n",
      "ABr was supported by the SNSA.\\\\ %A. Brandeker\n",
      "B.-O.D. acknowledges support from the Swiss National Science Foundation (PP00P2-190080).\\\\ %Brice-Olivier Demory\n",
      "PM acknowledges support from STFC research grant number ST/M001040/1.\\\\ %Pierre F. L. Maxted\n",
      "This work is partly financed by the Spanish Ministry of Economics and Competitiveness through grants PGC2018-098153-B-C31\\\\ %Enric Pallé\n",
      "Acknowledges support from the Spanish Ministry of Science and Innovation and the European Regional Development Fund through grant PGC2018-098153-B- C33, as well as the support of the Generalitat de Catalunya/CERCA programme.\\\\ %Ignasi Ribas\n",
      "This project was supported by the CNES\\\\ %Magali Deleuil\n",
      "M.G. is an F.R.S.-FNRS Senior Research Associate.\\\\ %Michaël Gillon\n",
      "GyMSz acknowledges the support of the Hungarian National Research, Development and Innovation Office (NKFIH) grant K-125015, a a PRODEX Experiment Agreement No. 4000137122, the Lend\\\"ulet LP2018-7/2021 grant of the Hungarian Academy of Science and the support of the city of Szombathely.\\\\ %Gyula M. Szabó\\\\ %Gyula M. Szabó\n",
      "This work was granted access to the HPC resources of MesoPSL financed by the Region Ile de France and the project Equip@Meso (reference ANR-10-EQPX-29-01) of the programme Investissements d'Avenir supervised by the Agence Nationale pour la Recherche\\\\ %Jacques Laskar\n",
      "L.D. is an F.R.S.-FNRS Postdoctoral Researcher.\\\\ %Laetitia Delrez\n",
      "MF gratefully acknowledge the support of the Swedish National Space Agency (DNR 65/19, 174/18).\\\\ %Malcolm Fridlund\n",
      "This work was supported by FCT - Fundação para a Ciência e a Tecnologia through national funds and by FEDER through COMPETE2020 - Programa Operacional Competitividade e Internacionalizacão by these grants: UID/FIS/04434/2019, UIDB/04434/2020, UIDP/04434/2020, PTDC/FIS-AST/32113/2017 \\& POCI-01-0145-FEDER- 032113, PTDC/FIS-AST/28953/2017 \\& POCI-01-0145-FEDER-028953, PTDC/FIS-AST/28987/2017 \\& POCI-01-0145-FEDER-028987, O.D.S.D. is supported in the form of work contract (DL 57/2016/CP1364/CT0004) funded by national funds through FCT.\\\\ %Olivier D. S. Demangeon\n",
      "We acknowledge support from the Spanish Ministry of Science and Innovation and the European Regional Development Fund through grants ESP2016-80435-C2-1-R, ESP2016-80435-C2-2-R, PGC2018-098153-B-C33, PGC2018-098153-B-C31, ESP2017-87676-C5-1-R, MDM-2017-0737 Unidad de Excelencia Maria de Maeztu-Centro de Astrobiologí­a (INTA-CSIC), as well as the support of the Generalitat de Catalunya/CERCA programme. The MOC activities have been supported by the ESA contract No. 4000124370.\\\\ %Roi Alonso\n",
      "XB, SC, DG, MF and JL acknowledge their role as ESA-appointed CHEOPS science team members.\\\\ %Xavier Bonfils\n",
      "This project has received funding from the European Research Council (ERC) under the European Union’s Horizon 2020 research and innovation programme (project {\\sc Four Aces}; grant agreement No 724427); DE acknowledges financial support from the Swiss National Science Foundation for project 200021\\_200726.\\\\ %David Ehrenreich\n",
      "(covered by Tom Wilson's acknowledgement)\\\\ %Andrew Collier Cameron\n",
      "This work was also partially supported by a grant from the Simons Foundation (PI Queloz, grant number 327127).\\\\ %Didier Queloz\n",
      "SH gratefully acknowledges CNES funding through the grant 837319.\\\\ %Sergio Hoyer\n",
      "KGI is the ESA CHEOPS Project Scientist and is responsible for the ESA CHEOPS Guest Observers Programme. She does not participate in, or contribute to, the definition of the Guaranteed Time Programme of the CHEOPS mission through which observations described in this paper have been taken, nor to any aspect of target selection for the programme.\\\\ %Kate G. Isaak\n",
      "YGMC is supported by UNAM-PAPIIT-IG101321. This work includes observations with SAINT-EX carried out at the Observatorio Astronómico Nacional on the Sierra de San Pedro M\\'artir (OAN-SPM), Baja California, M\\'exico.\\\\ %Y. Gómez~Maqueo~Chew\n",
      "S.S. have received funding from the European Research Council (ERC) under the European Unions Horizon 2020 research and innovation programme (grant agreement No 833925,  project STAREX).\\\\ %Sébastien Salmon\n"
     ]
    }
   ],
   "source": [
    "print('\\n'.join(acks))"
   ]
  },
  {
   "cell_type": "code",
   "execution_count": 8,
   "metadata": {},
   "outputs": [
    {
     "name": "stdout",
     "output_type": "stream",
     "text": [
      "Hugh P. Osborn, Andrea Bonfanti, Davide Gandolfi, Christina Hedges, Adrien Leleu, Andrea Fortier, David Futyan, Pascal Gutermann, Pierre F. L. Maxted, Luca Borsato, Karen A. Collins, J. Gomes~da~Silva, Yilen Gómez~Maqueo~Chew, Matthew J. Hooton, Monika Lendl, Hannu Parviainen, Sébastien Salmon, Nicole Schanche, Luisa M. Serrano, Sergio G. Sousa, Amy Tuson, Solène Ulmer-Moll, Valerie Van Grootel, R.D. Wells, Thomas G. Wilson, Yann Alibert, Roi Alonso, Guillem Anglada, Joel Asquier, David Barrado y Navascues, Wolfgang Baumjohann, Thomas Beck, Willy Benz, Federico Biondi, Xavier Bonfils, Francois Bouchy, Alexis Brandeker, Christopher Broeg, Tamas Bárczy, S. C. C. Barros, Juan Cabrera, Sébastien Charnoz, Andrew Collier Cameron, Szilard Csizmadia, Melvyn B. Davies, Magali Deleuil, Laetitia Delrez, Brice-Olivier Demory, David Ehrenreich, Anders Erikson, Luca Fossati, Malcolm Fridlund, Michaël Gillon, M.A. Gómez-Muñoz, Manuel Güdel, Kevin Heng, Sergio Hoyer, Kate G. Isaak, Laszlo Kiss, Jacques Laskar, Alain Lecavelier des Etangs, Christophe Lovis, Demetrio Magrin, Luca Malavolta, James McCormac, Valerio Nascimbeni, Göran Olofsson, Roland Ottensamer, Isabella Pagano, Enric Pallé, Gisbert Peter, Daniele Piazza, Giampaolo Piotto, Don Pollacco, Didier Queloz, Roberto Ragazzoni, Nicola Rando, Heike Rauer, Christian Reimers, Ignasi Ribas, Olivier D. S. Demangeon, Alexis M. S. Smith, L. Sabin, Nuno Santos, Gaetano Scandariato, U. Schroffenegger, Rick P. Schwarz, Avi Shporer, Attila E. Simon, Manfred Steller, Gyula M. Szabó, Damien Ségransan, Nicolas Thomas, Stéphane Udry, Ingo Walter, Nicholas Walton\n"
     ]
    }
   ],
   "source": [
    "latex_names=[]\n",
    "for idf in [lead_author,second_authors,third_authors,fourth_authors,other_authors]:\n",
    "    for n,auth in idf.iterrows():\n",
    "        latex_names+=[auth['NAME']]\n",
    "print(', '.join(latex_names))"
   ]
  },
  {
   "cell_type": "code",
   "execution_count": 21,
   "metadata": {},
   "outputs": [
    {
     "name": "stdout",
     "output_type": "stream",
     "text": [
      "2.8545454545454545 0.7958570410268831\n"
     ]
    },
    {
     "data": {
      "image/png": "[encoded data removed]",
      "text/plain": [
       "<Figure size 432x288 with 1 Axes>"
      ]
     },
     "metadata": {
      "needs_background": "light"
     },
     "output_type": "display_data"
    }
   ],
   "source": [
    "from scipy.stats import norm\n",
    "import matplotlib.mlab as mlab\n",
    "import matplotlib.pyplot as plt\n",
    "%matplotlib inline\n",
    "\n",
    "dat=np.array([0,2,15,28,9,1])\n",
    "samps=np.hstack([np.tile(t,dat[t]) for t in range(6)])\n",
    "\n",
    "# best fit of data\n",
    "(mu, sigma) = norm.fit(samps)\n",
    "\n",
    "# the histogram of the data\n",
    "plt.bar(np.arange(0,6,1), dat,width=1.0)\n",
    "plt.plot(np.arange(0,7,0.05),np.sum(dat)*norm(mu,sigma).pdf(np.arange(0,7,0.05)),'--k')\n",
    "print(1+mu,sigma)\n",
    "print(100*(1.0-norm(mu,sigma).cdf(5.51)))"
   ]
  },
  {
   "cell_type": "code",
   "execution_count": 39,
   "metadata": {},
   "outputs": [
    {
     "name": "stdout",
     "output_type": "stream",
     "text": [
      "4.413793103448276 1.0991294793454638\n",
      "15.929950893742184\n"
     ]
    },
    {
     "data": {
      "image/png": "[encoded data removed]",
      "text/plain": [
       "<Figure size 432x288 with 1 Axes>"
      ]
     },
     "metadata": {
      "needs_background": "light"
     },
     "output_type": "display_data"
    }
   ],
   "source": [
    "from scipy.stats import norm\n",
    "import matplotlib.mlab as mlab\n",
    "import matplotlib.pyplot as plt\n",
    "%matplotlib inline\n",
    "\n",
    "dat=np.array([0,0,6,11,8,2,2])\n",
    "samps=np.hstack([np.tile(t+1,dat[t]) for t in np.arange(1,7)])\n",
    "\n",
    "# best fit of data\n",
    "(mu, sigma) = norm.fit(samps)\n",
    "\n",
    "# the histogram of the data\n",
    "plt.bar(np.arange(1,7.1,1), dat,width=1.0)\n",
    "plt.plot(np.arange(1,8,0.05),np.sum(dat)*norm(mu,sigma).pdf(np.arange(1,8,0.05)),'--k')\n",
    "print(mu,sigma)\n",
    "print(100*(1.0-norm(mu,sigma).cdf(5.51)))"
   ]
  },
  {
   "cell_type": "code",
   "execution_count": 38,
   "metadata": {},
   "outputs": [
    {
     "data": {
      "text/plain": [
       "array([2, 2, 2, 2, 2, 2, 3, 3, 3, 3, 3, 3, 3, 3, 3, 3, 3, 4, 4, 4, 4, 4,\n",
       "       4, 4, 4, 5, 5, 6, 6])"
      ]
     },
     "execution_count": 38,
     "metadata": {},
     "output_type": "execute_result"
    }
   ],
   "source": [
    "samps"
   ]
  },
  {
   "cell_type": "code",
   "execution_count": 12,
   "metadata": {},
   "outputs": [],
   "source": [
    "plt.bar?\n",
    "#(np.arange(0,6.1,1), dat)"
   ]
  },
  {
   "cell_type": "code",
   "execution_count": 19,
   "metadata": {},
   "outputs": [
    {
     "data": {
      "text/plain": [
       "array([8.06332717e-04, 1.00813986e-03, 1.25548961e-03, 1.55736815e-03,\n",
       "       1.92422246e-03, 2.36812762e-03, 2.90295800e-03, 3.54455918e-03,\n",
       "       4.31091580e-03, 5.22231035e-03, 6.30146666e-03, 7.57367104e-03,\n",
       "       9.06686315e-03, 1.08116882e-02, 1.28415011e-02, 1.51923132e-02,\n",
       "       1.79026715e-02, 2.10134620e-02, 2.45676268e-02, 2.86097874e-02,\n",
       "       3.31857689e-02, 3.83420180e-02, 4.41249147e-02, 5.05799760e-02,\n",
       "       5.77509573e-02, 6.56788569e-02, 7.44008354e-02, 8.39490657e-02,\n",
       "       9.43495322e-02, 1.05620803e-01, 1.17772802e-01, 1.30805612e-01,\n",
       "       1.44708345e-01, 1.59458107e-01, 1.75019106e-01, 1.91341928e-01,\n",
       "       2.08363029e-01, 2.26004457e-01, 2.44173865e-01, 2.62764795e-01,\n",
       "       2.81657297e-01, 3.00718860e-01, 3.19805666e-01, 3.38764170e-01,\n",
       "       3.57432974e-01, 3.75644979e-01, 3.93229771e-01, 4.10016205e-01,\n",
       "       4.25835126e-01, 4.40522171e-01, 4.53920596e-01, 4.65884043e-01,\n",
       "       4.76279195e-01, 4.84988248e-01, 4.91911129e-01, 4.96967410e-01,\n",
       "       5.00097865e-01, 5.01265621e-01, 5.00456884e-01, 4.97681211e-01,\n",
       "       4.92971316e-01, 4.86382438e-01, 4.77991252e-01, 4.67894393e-01,\n",
       "       4.56206597e-01, 4.43058539e-01, 4.28594397e-01, 4.12969233e-01,\n",
       "       3.96346231e-01, 3.78893887e-01, 3.60783188e-01, 3.42184879e-01,\n",
       "       3.23266846e-01, 3.04191690e-01, 2.85114533e-01, 2.66181086e-01,\n",
       "       2.47526020e-01, 2.29271649e-01, 2.11526936e-01, 1.94386827e-01,\n",
       "       1.77931899e-01, 1.62228302e-01, 1.47327990e-01, 1.33269182e-01,\n",
       "       1.20077055e-01, 1.07764608e-01, 9.63336706e-02, 8.57760202e-02,\n",
       "       7.60745696e-02, 6.72045914e-02, 5.91349474e-02, 5.18292964e-02,\n",
       "       4.52472554e-02, 3.93454935e-02, 3.40787441e-02, 2.94007220e-02,\n",
       "       2.52649381e-02, 2.16254080e-02, 1.84372528e-02, 1.56571942e-02,\n",
       "       1.32439489e-02, 1.11585274e-02, 9.36444618e-03, 7.82786167e-03,\n",
       "       6.51763469e-03, 5.40533627e-03, 4.46520341e-03, 3.67405461e-03,\n",
       "       3.01117361e-03, 2.45816942e-03, 1.99881987e-03, 1.61890488e-03,\n",
       "       1.30603506e-03, 1.04948000e-03, 8.40000082e-04, 6.69684610e-04,\n",
       "       5.31798535e-04, 4.20639240e-04, 3.31404392e-04, 2.60071382e-04,\n",
       "       2.03288447e-04, 1.58277310e-04, 1.22746877e-04, 9.48174067e-05,\n",
       "       7.29544054e-05, 5.59114557e-05, 4.26811297e-05, 3.24531488e-05,\n",
       "       2.45789658e-05, 1.85419839e-05, 1.39326786e-05, 1.04279483e-05,\n",
       "       7.77407901e-06, 5.77277803e-06, 4.26979078e-06, 3.14567725e-06,\n",
       "       2.30838134e-06, 1.68727852e-06, 1.22843401e-06, 8.90846159e-07])"
      ]
     },
     "execution_count": 19,
     "metadata": {},
     "output_type": "execute_result"
    }
   ],
   "source": [
    "norm(mu,sigma).pdf(np.arange(0,7,0.05))"
   ]
  },
  {
   "cell_type": "code",
   "execution_count": null,
   "metadata": {},
   "outputs": [],
   "source": []
  }
 ],
 "metadata": {
  "kernelspec": {
   "display_name": "Python 3",
   "language": "python",
   "name": "python3"
  },
  "language_info": {
   "codemirror_mode": {
    "name": "ipython",
    "version": 3
   },
   "file_extension": ".py",
   "mimetype": "text/x-python",
   "name": "python",
   "nbconvert_exporter": "python",
   "pygments_lexer": "ipython3",
   "version": "3.9.6"
  }
 },
 "nbformat": 4,
 "nbformat_minor": 4
}
